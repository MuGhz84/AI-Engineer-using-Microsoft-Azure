{
 "cells": [
  {
   "cell_type": "markdown",
   "metadata": {},
   "source": [
    "### Please install the required Python modules/SDKs"
   ]
  },
  {
   "cell_type": "code",
   "execution_count": null,
   "metadata": {},
   "outputs": [],
   "source": [
    "! activate ai-azure-c1\n",
    "\n",
    "import sys\n",
    "\n",
    "sys.path.append(\"/opt/conda/envs/ai-azure-c1/lib/python3.8/site-packages\")"
   ]
  },
  {
   "cell_type": "markdown",
   "metadata": {},
   "source": [
    "## Importing Python modules for the demo"
   ]
  },
  {
   "cell_type": "code",
   "execution_count": null,
   "metadata": {},
   "outputs": [],
   "source": [
    "import requests\n",
    "import os, time, uuid"
   ]
  },
  {
   "cell_type": "code",
   "execution_count": null,
   "metadata": {},
   "outputs": [],
   "source": [
    "from azure.cognitiveservices.vision.customvision.training import CustomVisionTrainingClient\n",
    "from azure.cognitiveservices.vision.customvision.prediction import CustomVisionPredictionClient\n",
    "from azure.cognitiveservices.vision.customvision.training.models import ImageFileCreateBatch, ImageFileCreateEntry, Region\n",
    "from msrest.authentication import ApiKeyCredentials"
   ]
  },
  {
   "cell_type": "markdown",
   "metadata": {},
   "source": [
    "## Make sure you have the correct Training Endpoint, Key and Resource ID"
   ]
  },
  {
   "cell_type": "code",
   "execution_count": null,
   "metadata": {},
   "outputs": [],
   "source": [
    "TRAINING_ENDPOINT = \"ENTER TRAINING ENDPOINT HERE\"\n",
    "training_key = \"ENTER TRAINING RESOURCE KEY HERE\"\n",
    "training_resource_id = \"ENTER TRAINING RESOURCE ID HERE\""
   ]
  },
  {
   "cell_type": "code",
   "execution_count": null,
   "metadata": {},
   "outputs": [],
   "source": [
    "training_credentials = ApiKeyCredentials(in_headers={\"Training-key\": training_key})\n",
    "trainer = CustomVisionTrainingClient(TRAINING_ENDPOINT, training_credentials)"
   ]
  },
  {
   "cell_type": "markdown",
   "metadata": {},
   "source": [
    "### Getting a list of all Custom Vision projects "
   ]
  },
  {
   "cell_type": "code",
   "execution_count": null,
   "metadata": {},
   "outputs": [],
   "source": [
    "all_project = trainer.get_projects()"
   ]
  },
  {
   "cell_type": "code",
   "execution_count": null,
   "metadata": {},
   "outputs": [],
   "source": [
    "for each_project in all_project:\n",
    "    print(\"Project ID: \",each_project.id)\n",
    "    print(\"Project Name: \",each_project.name)"
   ]
  },
  {
   "cell_type": "markdown",
   "metadata": {},
   "source": [
    "### Select the project ID that you are interested in exporting. Make sure the project type is set to \"Compact\"."
   ]
  },
  {
   "cell_type": "code",
   "execution_count": null,
   "metadata": {},
   "outputs": [],
   "source": [
    "project_id = all_project[0].id\n",
    "print(\"Project ID: \", project_id)"
   ]
  },
  {
   "cell_type": "code",
   "execution_count": null,
   "metadata": {},
   "outputs": [],
   "source": [
    "all_iterations = trainer.get_iterations(project_id)"
   ]
  },
  {
   "cell_type": "code",
   "execution_count": null,
   "metadata": {},
   "outputs": [],
   "source": [
    "for index, each_iteration in enumerate(all_iterations):\n",
    "    print(\"|--------- Iteration [{}] --------\".format(index))\n",
    "    print(\"Iteration ID: \",each_iteration.id)\n",
    "    print(\"Iteration Name: \",each_iteration.name)\n",
    "    print(\"Iteration Exportable: \",each_iteration.exportable)\n",
    "    print(\"-----------------------------------------------------\")"
   ]
  },
  {
   "cell_type": "markdown",
   "metadata": {},
   "source": [
    "### Above please verify that your project-> Iteration must be exportalble\n",
    "- Iteration Exportable: True\n",
    "\n",
    "Make sure there are exportable iterations. If none of the iteration is exportable, follow these steps:\n",
    "* Go to the Custom Vision portal\n",
    "* Select a project and change your project setting to support the compact domain\n",
    "* Create another iteration for model training\n",
    "\n",
    "You can check the *\"Azure Custom Vision Portal Demo 5: Export a Model\"* video for how to perform these steps.\n",
    "\n",
    "Then you can rerun the cells above."
   ]
  },
  {
   "cell_type": "code",
   "execution_count": null,
   "metadata": {},
   "outputs": [],
   "source": [
    "for index, each_iteration in enumerate(all_iterations):\n",
    "    model_perf = trainer.get_iteration_performance(project_id, each_iteration.id)\n",
    "    print(\"----- Model Perormance {} -------- \".format(index))\n",
    "    print(\"Iteration ID: \",each_iteration.id)\n",
    "    print(\"Precision: {}   Recall: {} -------- \".format(model_perf.precision, model_perf.recall))\n",
    "    print(\"-----------------------------------------------------\")"
   ]
  },
  {
   "cell_type": "markdown",
   "metadata": {},
   "source": [
    "### Select the project ID that you are interested in exporting. Make sure it is exportable."
   ]
  },
  {
   "cell_type": "code",
   "execution_count": null,
   "metadata": {},
   "outputs": [],
   "source": [
    "selected_iteration_id = all_iterations[0].id\n",
    "print(selected_iteration_id)"
   ]
  },
  {
   "cell_type": "markdown",
   "metadata": {},
   "source": [
    "### Platform Choices are\n",
    "- CoreML, TensorFlow, DockerFile, ONNX, VAIDK, and OpenVino\n",
    "\n",
    "### Flavor Choices are\n",
    "- Linux, Windows, ONNX10, ONNX12, ARM, TensorFlowNormal, and TensorFlowLite.\n",
    "\n",
    "### raw = True|False\n",
    "- If True, you can get raw JSON response along with the object model response"
   ]
  },
  {
   "cell_type": "markdown",
   "metadata": {},
   "source": [
    "# Start the model export process"
   ]
  },
  {
   "cell_type": "code",
   "execution_count": null,
   "metadata": {},
   "outputs": [],
   "source": [
    "platform = \"TensorFlow\"\n",
    "flavor = \"TensorFlowLite\""
   ]
  },
  {
   "cell_type": "code",
   "execution_count": null,
   "metadata": {},
   "outputs": [],
   "source": [
    "export_process = trainer.export_iteration(project_id, selected_iteration_id, platform, flavor, raw=True)"
   ]
  },
  {
   "cell_type": "code",
   "execution_count": null,
   "metadata": {},
   "outputs": [],
   "source": [
    "print(export_process.output)"
   ]
  },
  {
   "cell_type": "code",
   "execution_count": null,
   "metadata": {},
   "outputs": [],
   "source": [
    "print(export_process.output.status)"
   ]
  },
  {
   "cell_type": "code",
   "execution_count": null,
   "metadata": {
    "scrolled": false
   },
   "outputs": [],
   "source": [
    "### Code snippet is from Azure SDK and Documentation\n",
    "### https://docs.microsoft.com/en-us/azure/cognitive-services/custom-vision-service/export-programmatically\n",
    "### This step may take a long time \n",
    "while (export_process.output.status == \"Exporting\"):\n",
    "    print (\"Waiting 10 seconds...\")\n",
    "    time.sleep(10)\n",
    "    exports = trainer.get_exports(project_id, selected_iteration_id)\n",
    "    for e in exports:\n",
    "        if e.platform == export_process.output.platform and e.flavor == export_process.output.flavor:\n",
    "            export = e\n",
    "            break\n",
    "    print(\"Export status is: \", export_process.output.status)"
   ]
  },
  {
   "cell_type": "code",
   "execution_count": null,
   "metadata": {},
   "outputs": [],
   "source": [
    "print(export_process.output.status)"
   ]
  },
  {
   "cell_type": "code",
   "execution_count": null,
   "metadata": {},
   "outputs": [],
   "source": [
    "print(export_process.output.download_uri)"
   ]
  },
  {
   "cell_type": "code",
   "execution_count": null,
   "metadata": {},
   "outputs": [],
   "source": [
    "## Downloading the model from url\n",
    "if export_process.output.status == \"Done\":\n",
    "    # Ready to Download\n",
    "    model_export_file = requests.get(export_process.output.download_uri)\n",
    "    with open(\"birds_flowers_model_tensorflow.zip\", \"wb\") as file:\n",
    "        file.write(model_export_file.content)"
   ]
  },
  {
   "cell_type": "markdown",
   "metadata": {},
   "source": [
    "# Collecting Export Status by project ID and iteration ID"
   ]
  },
  {
   "cell_type": "code",
   "execution_count": null,
   "metadata": {},
   "outputs": [],
   "source": [
    "exports_offline = trainer.get_exports(project_id, selected_iteration_id)"
   ]
  },
  {
   "cell_type": "code",
   "execution_count": null,
   "metadata": {},
   "outputs": [],
   "source": [
    "for e in exports_offline:\n",
    "    print(e)"
   ]
  },
  {
   "cell_type": "code",
   "execution_count": null,
   "metadata": {},
   "outputs": [],
   "source": [
    "for e in exports_offline:\n",
    "    if e.status == 'Done':\n",
    "        print(\"Downloading model from URL: \", e.download_uri)\n",
    "        model_export_file = requests.get(e.download_uri)\n",
    "        with open(\"birds_flowers_model_tensorflow.zip\", \"wb\") as file:\n",
    "            file.write(model_export_file.content)"
   ]
  },
  {
   "cell_type": "code",
   "execution_count": null,
   "metadata": {},
   "outputs": [],
   "source": [
    "!ls -l birds_flowers_model_tensorflow.zip"
   ]
  },
  {
   "cell_type": "code",
   "execution_count": null,
   "metadata": {},
   "outputs": [],
   "source": []
  }
 ],
 "metadata": {
  "kernelspec": {
   "display_name": "Python 3",
   "language": "python",
   "name": "python3"
  },
  "language_info": {
   "codemirror_mode": {
    "name": "ipython",
    "version": 3
   },
   "file_extension": ".py",
   "mimetype": "text/x-python",
   "name": "python",
   "nbconvert_exporter": "python",
   "pygments_lexer": "ipython3",
   "version": "3.6.3"
  }
 },
 "nbformat": 4,
 "nbformat_minor": 4
}
