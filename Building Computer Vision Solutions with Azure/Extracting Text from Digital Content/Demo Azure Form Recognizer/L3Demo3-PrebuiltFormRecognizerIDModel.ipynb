{
 "cells": [
  {
   "cell_type": "markdown",
   "metadata": {},
   "source": [
    "### Importing Azure Form Recognizer python modules"
   ]
  },
  {
   "cell_type": "code",
   "execution_count": 1,
   "metadata": {},
   "outputs": [],
   "source": [
    "from azure.core.credentials import AzureKeyCredential\n",
    "from azure.ai.formrecognizer import FormRecognizerClient"
   ]
  },
  {
   "cell_type": "code",
   "execution_count": 2,
   "metadata": {},
   "outputs": [],
   "source": [
    "AZURE_FORM_RECOGNIZER_ENDPOINT = \"https://----------------------------.cognitiveservices.azure.com/\"\n",
    "AZURE_FORM_RECOGNIZER_KEY = \"----------------------\""
   ]
  },
  {
   "cell_type": "code",
   "execution_count": 3,
   "metadata": {},
   "outputs": [],
   "source": [
    "endpoint = AZURE_FORM_RECOGNIZER_ENDPOINT\n",
    "key = AZURE_FORM_RECOGNIZER_KEY"
   ]
  },
  {
   "cell_type": "code",
   "execution_count": 4,
   "metadata": {},
   "outputs": [],
   "source": [
    "form_recognizer_client = FormRecognizerClient(endpoint=endpoint, credential=AzureKeyCredential(key))"
   ]
  },
  {
   "cell_type": "markdown",
   "metadata": {},
   "source": [
    "### Source Document"
   ]
  },
  {
   "cell_type": "code",
   "execution_count": 5,
   "metadata": {},
   "outputs": [],
   "source": [
    "content_url = \"https://raw.githubusercontent.com/udacity/cd0461-building-computer-vision-solutions-with-azure-exercises/main/resources/ca-dl-sample.png\""
   ]
  },
  {
   "cell_type": "code",
   "execution_count": 6,
   "metadata": {},
   "outputs": [],
   "source": [
    "id_content_from_url = form_recognizer_client.begin_recognize_identity_documents_from_url(content_url)"
   ]
  },
  {
   "cell_type": "code",
   "execution_count": 7,
   "metadata": {},
   "outputs": [],
   "source": [
    "collected_id_cards = id_content_from_url.result()"
   ]
  },
  {
   "cell_type": "code",
   "execution_count": 8,
   "metadata": {},
   "outputs": [
    {
     "data": {
      "text/plain": [
       "[RecognizedForm(form_type=prebuilt:idDocument:driverLicense, fields={'Address': FormField(value_type=string, label_data=None, value_data=FieldData(page_number=1, text=1234 Circle Ave, Apt 123 San Mateo, CA, 94401, bounding_box=[Point(x=180.0, y=149.0), Point(x=329.0, y=149.0), Point(x=329.0, y=182.0), Point(x=180.0, y=182.0)], field_elements=None), name=Address, value='1234 Circle Ave, Apt 123 San Mateo, CA, 94401', confidence=0.657), 'CountryRegion': FormField(value_type=countryRegion, label_data=None, value_data=None, name=CountryRegion, value='USA', confidence=0.99), 'DateOfBirth': FormField(value_type=date, label_data=None, value_data=FieldData(page_number=1, text=01/01/1990, bounding_box=[Point(x=208.0, y=182.0), Point(x=285.0, y=181.0), Point(x=286.0, y=196.0), Point(x=208.0, y=196.0)], field_elements=None), name=DateOfBirth, value=datetime.date(1990, 1, 1), confidence=0.995), 'DateOfExpiration': FormField(value_type=date, label_data=None, value_data=FieldData(page_number=1, text=01/01/2025, bounding_box]"
      ]
     },
     "execution_count": 8,
     "metadata": {},
     "output_type": "execute_result"
    }
   ],
   "source": [
    "collected_id_cards"
   ]
  },
  {
   "cell_type": "code",
   "execution_count": 9,
   "metadata": {},
   "outputs": [
    {
     "data": {
      "text/plain": [
       "1"
      ]
     },
     "execution_count": 9,
     "metadata": {},
     "output_type": "execute_result"
    }
   ],
   "source": [
    "len(collected_id_cards)"
   ]
  },
  {
   "cell_type": "code",
   "execution_count": 10,
   "metadata": {},
   "outputs": [
    {
     "data": {
      "text/plain": [
       "azure.ai.formrecognizer._models.RecognizedForm"
      ]
     },
     "execution_count": 10,
     "metadata": {},
     "output_type": "execute_result"
    }
   ],
   "source": [
    "type(collected_id_cards[0])"
   ]
  },
  {
   "cell_type": "markdown",
   "metadata": {},
   "source": [
    "### Processing Results"
   ]
  },
  {
   "cell_type": "code",
   "execution_count": 11,
   "metadata": {},
   "outputs": [],
   "source": [
    "def get_id_card_details(identity_card):\n",
    "    first_name = identity_card.fields.get(\"FirstName\")\n",
    "    if first_name:\n",
    "        print(\"First Name: {} has confidence: {}\".format(first_name.value, first_name.confidence))\n",
    "    last_name = identity_card.fields.get(\"LastName\")\n",
    "    if last_name:\n",
    "        print(\"Last Name: {} has confidence: {}\".format(last_name.value, last_name.confidence))\n",
    "    document_number = identity_card.fields.get(\"DocumentNumber\")\n",
    "    if document_number:\n",
    "        print(\"Document Number: {} has confidence: {}\".format(document_number.value, document_number.confidence))\n",
    "    dob = identity_card.fields.get(\"DateOfBirth\")\n",
    "    if dob:\n",
    "        print(\"Date of Birth: {} has confidence: {}\".format(dob.value, dob.confidence))\n",
    "    doe = identity_card.fields.get(\"DateOfExpiration\")\n",
    "    if doe:\n",
    "        print(\"Date of Expiration: {} has confidence: {}\".format(doe.value, doe.confidence))\n",
    "    sex = identity_card.fields.get(\"Sex\")\n",
    "    if sex:\n",
    "        print(\"Sex: {} has confidence: {}\".format(sex.value, sex.confidence))\n",
    "    address = identity_card.fields.get(\"Address\")\n",
    "    if address:\n",
    "        print(\"Address: {} has confidence: {}\".format(address.value, address.confidence))\n",
    "    country_region = identity_card.fields.get(\"CountryRegion\")\n",
    "    if country_region:\n",
    "        print(\"Country/Region: {} has confidence: {}\".format(country_region.value, country_region.confidence))\n",
    "    region = identity_card.fields.get(\"Region\")\n",
    "    if region:\n",
    "        print(\"Region: {} has confidence: {}\".format(region.value, region.confidence))"
   ]
  },
  {
   "cell_type": "code",
   "execution_count": 12,
   "metadata": {},
   "outputs": [
    {
     "name": "stdout",
     "output_type": "stream",
     "text": [
      "First Name: AVKASH CHAUHAN has confidence: 0.781\n",
      "Last Name: CHAUHAN has confidence: 0.895\n",
      "Document Number: D1234578 has confidence: 0.995\n",
      "Date of Birth: 1990-01-01 has confidence: 0.995\n",
      "Date of Expiration: 2025-01-01 has confidence: 0.99\n",
      "Sex: M has confidence: 0.985\n",
      "Address: 1234 Circle Ave, Apt 123 San Mateo, CA, 94401 has confidence: 0.657\n",
      "Country/Region: USA has confidence: 0.99\n",
      "Region: California has confidence: 0.983\n"
     ]
    }
   ],
   "source": [
    "get_id_card_details(collected_id_cards[0])"
   ]
  },
  {
   "cell_type": "code",
   "execution_count": 13,
   "metadata": {},
   "outputs": [
    {
     "name": "stdout",
     "output_type": "stream",
     "text": [
      "Displaying identity card details ....... # 1\n",
      "First Name: AVKASH CHAUHAN has confidence: 0.781\n",
      "Last Name: CHAUHAN has confidence: 0.895\n",
      "Document Number: D1234578 has confidence: 0.995\n",
      "Date of Birth: 1990-01-01 has confidence: 0.995\n",
      "Date of Expiration: 2025-01-01 has confidence: 0.99\n",
      "Sex: M has confidence: 0.985\n",
      "Address: 1234 Circle Ave, Apt 123 San Mateo, CA, 94401 has confidence: 0.657\n",
      "Country/Region: USA has confidence: 0.99\n",
      "Region: California has confidence: 0.983\n",
      "---------------- EOL -------------------------\n"
     ]
    }
   ],
   "source": [
    "for index_id, id_card in enumerate(collected_id_cards):\n",
    "    print(\"Displaying identity card details ....... # {}\".format(index_id+1))\n",
    "    get_id_card_details(id_card)\n",
    "    print(\"---------------- EOL -------------------------\")"
   ]
  }
 ],
 "metadata": {
  "kernelspec": {
   "display_name": "ai-azure-c1",
   "language": "python",
   "name": "python3"
  },
  "language_info": {
   "codemirror_mode": {
    "name": "ipython",
    "version": 3
   },
   "file_extension": ".py",
   "mimetype": "text/x-python",
   "name": "python",
   "nbconvert_exporter": "python",
   "pygments_lexer": "ipython3",
   "version": "3.8.17"
  },
  "orig_nbformat": 4
 },
 "nbformat": 4,
 "nbformat_minor": 2
}
