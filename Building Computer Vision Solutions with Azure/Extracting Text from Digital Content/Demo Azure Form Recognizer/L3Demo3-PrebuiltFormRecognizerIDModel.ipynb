{
 "cells": [
  {
   "cell_type": "markdown",
   "metadata": {},
   "source": [
    "### Importing Azure Form Recognizer python modules"
   ]
  },
  {
   "cell_type": "code",
   "execution_count": 2,
   "metadata": {},
   "outputs": [],
   "source": [
    "from azure.core.credentials import AzureKeyCredential\n",
    "from azure.ai.formrecognizer import FormRecognizerClient"
   ]
  },
  {
   "cell_type": "code",
   "execution_count": null,
   "metadata": {},
   "outputs": [],
   "source": [
    "AZURE_FORM_RECOGNIZER_ENDPOINT = \"\"\n",
    "AZURE_FORM_RECOGNIZER_KEY = \"\""
   ]
  },
  {
   "cell_type": "code",
   "execution_count": null,
   "metadata": {},
   "outputs": [],
   "source": [
    "endpoint = AZURE_FORM_RECOGNIZER_ENDPOINT\n",
    "key = AZURE_FORM_RECOGNIZER_KEY"
   ]
  },
  {
   "cell_type": "code",
   "execution_count": null,
   "metadata": {},
   "outputs": [],
   "source": [
    "form_recognizer_client = FormRecognizerClient(endpoint=endpoint, credential=AzureKeyCredential(key))"
   ]
  },
  {
   "cell_type": "markdown",
   "metadata": {},
   "source": [
    "### Source Document"
   ]
  },
  {
   "cell_type": "code",
   "execution_count": null,
   "metadata": {},
   "outputs": [],
   "source": [
    "content_url = \"https://raw.githubusercontent.com/udacity/cd0461-building-computer-vision-solutions-with-azure-exercises/main/resources/ca-dl-sample.png\""
   ]
  },
  {
   "cell_type": "code",
   "execution_count": null,
   "metadata": {},
   "outputs": [],
   "source": [
    "id_content_from_url = form_recognizer_client.begin_recognize_identity_documents_from_url(content_url)"
   ]
  },
  {
   "cell_type": "code",
   "execution_count": null,
   "metadata": {},
   "outputs": [],
   "source": [
    "collected_id_cards = id_content_from_url.result()"
   ]
  },
  {
   "cell_type": "code",
   "execution_count": null,
   "metadata": {},
   "outputs": [],
   "source": [
    "collected_id_cards"
   ]
  },
  {
   "cell_type": "code",
   "execution_count": null,
   "metadata": {},
   "outputs": [],
   "source": [
    "len(collected_id_cards)"
   ]
  },
  {
   "cell_type": "code",
   "execution_count": null,
   "metadata": {},
   "outputs": [],
   "source": [
    "type(collected_id_cards[0])"
   ]
  },
  {
   "cell_type": "markdown",
   "metadata": {},
   "source": [
    "### Processing Results"
   ]
  },
  {
   "cell_type": "code",
   "execution_count": null,
   "metadata": {},
   "outputs": [],
   "source": [
    "def get_id_card_details(identity_card):\n",
    "    first_name = identity_card.fields.get(\"FirstName\")\n",
    "    if first_name:\n",
    "        print(\"First Name: {} has confidence: {}\".format(first_name.value, first_name.confidence))\n",
    "    last_name = identity_card.fields.get(\"LastName\")\n",
    "    if last_name:\n",
    "        print(\"Last Name: {} has confidence: {}\".format(last_name.value, last_name.confidence))\n",
    "    document_number = identity_card.fields.get(\"DocumentNumber\")\n",
    "    if document_number:\n",
    "        print(\"Document Number: {} has confidence: {}\".format(document_number.value, document_number.confidence))\n",
    "    dob = identity_card.fields.get(\"DateOfBirth\")\n",
    "    if dob:\n",
    "        print(\"Date of Birth: {} has confidence: {}\".format(dob.value, dob.confidence))\n",
    "    doe = identity_card.fields.get(\"DateOfExpiration\")\n",
    "    if doe:\n",
    "        print(\"Date of Expiration: {} has confidence: {}\".format(doe.value, doe.confidence))\n",
    "    sex = identity_card.fields.get(\"Sex\")\n",
    "    if sex:\n",
    "        print(\"Sex: {} has confidence: {}\".format(sex.value, sex.confidence))\n",
    "    address = identity_card.fields.get(\"Address\")\n",
    "    if address:\n",
    "        print(\"Address: {} has confidence: {}\".format(address.value, address.confidence))\n",
    "    country_region = identity_card.fields.get(\"CountryRegion\")\n",
    "    if country_region:\n",
    "        print(\"Country/Region: {} has confidence: {}\".format(country_region.value, country_region.confidence))\n",
    "    region = identity_card.fields.get(\"Region\")\n",
    "    if region:\n",
    "        print(\"Region: {} has confidence: {}\".format(region.value, region.confidence))"
   ]
  },
  {
   "cell_type": "code",
   "execution_count": null,
   "metadata": {},
   "outputs": [],
   "source": [
    "get_id_card_details(collected_id_cards[0])"
   ]
  },
  {
   "cell_type": "code",
   "execution_count": null,
   "metadata": {},
   "outputs": [],
   "source": [
    "for index_id, id_card in enumerate(collected_id_cards):\n",
    "    print(\"Displaying identity card details ....... # {}\".format(index_id+1))\n",
    "    get_id_card_details(id_card)\n",
    "    print(\"---------------- EOL -------------------------\")"
   ]
  }
 ],
 "metadata": {
  "kernelspec": {
   "display_name": "ai-azure-c1",
   "language": "python",
   "name": "python3"
  },
  "language_info": {
   "codemirror_mode": {
    "name": "ipython",
    "version": 3
   },
   "file_extension": ".py",
   "mimetype": "text/x-python",
   "name": "python",
   "nbconvert_exporter": "python",
   "pygments_lexer": "ipython3",
   "version": "3.8.17"
  },
  "orig_nbformat": 4
 },
 "nbformat": 4,
 "nbformat_minor": 2
}
