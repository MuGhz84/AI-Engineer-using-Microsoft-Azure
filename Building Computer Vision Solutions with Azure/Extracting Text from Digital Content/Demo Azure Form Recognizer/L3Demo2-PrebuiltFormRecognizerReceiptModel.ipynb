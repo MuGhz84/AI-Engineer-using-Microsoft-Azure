{
 "cells": [
  {
   "cell_type": "markdown",
   "metadata": {},
   "source": [
    "### Importing Azure Form Recognizer python modules"
   ]
  },
  {
   "cell_type": "code",
   "execution_count": null,
   "metadata": {},
   "outputs": [],
   "source": [
    "from azure.core.credentials import AzureKeyCredential\n",
    "from azure.ai.formrecognizer import FormRecognizerClient"
   ]
  },
  {
   "cell_type": "code",
   "execution_count": null,
   "metadata": {},
   "outputs": [],
   "source": [
    "AZURE_FORM_RECOGNIZER_ENDPOINT = \"\"\n",
    "AZURE_FORM_RECOGNIZER_KEY = \"\""
   ]
  },
  {
   "cell_type": "code",
   "execution_count": null,
   "metadata": {},
   "outputs": [],
   "source": [
    "endpoint = AZURE_FORM_RECOGNIZER_ENDPOINT\n",
    "key = AZURE_FORM_RECOGNIZER_KEY"
   ]
  },
  {
   "cell_type": "code",
   "execution_count": null,
   "metadata": {},
   "outputs": [],
   "source": [
    "form_recognizer_client = FormRecognizerClient(endpoint=endpoint, credential=AzureKeyCredential(key))"
   ]
  },
  {
   "cell_type": "markdown",
   "metadata": {},
   "source": [
    "### Source Document"
   ]
  },
  {
   "cell_type": "code",
   "execution_count": null,
   "metadata": {},
   "outputs": [],
   "source": [
    "content_url = \"https://raw.githubusercontent.com/udacity/cd0461-building-computer-vision-solutions-with-azure-exercises/main/resources/receipt-1.png\""
   ]
  },
  {
   "cell_type": "code",
   "execution_count": null,
   "metadata": {},
   "outputs": [],
   "source": [
    "receipt_content_from_url = form_recognizer_client.begin_recognize_receipts_from_url(content_url)"
   ]
  },
  {
   "cell_type": "code",
   "execution_count": null,
   "metadata": {},
   "outputs": [],
   "source": [
    "collected_receipts = receipt_content_from_url.result()"
   ]
  },
  {
   "cell_type": "code",
   "execution_count": null,
   "metadata": {},
   "outputs": [],
   "source": [
    "collected_receipts"
   ]
  },
  {
   "cell_type": "code",
   "execution_count": null,
   "metadata": {},
   "outputs": [],
   "source": [
    "len(collected_receipts)"
   ]
  },
  {
   "cell_type": "code",
   "execution_count": null,
   "metadata": {},
   "outputs": [],
   "source": [
    "type(collected_receipts[0])"
   ]
  },
  {
   "cell_type": "markdown",
   "metadata": {},
   "source": [
    "### Processing Results"
   ]
  },
  {
   "cell_type": "code",
   "execution_count": null,
   "metadata": {},
   "outputs": [],
   "source": [
    "def get_receipt_details(receipt):\n",
    "    receipt_type = receipt.fields.get(\"ReceiptType\")\n",
    "    if receipt_type:\n",
    "        print(\"Receipt Type: {} has confidence: {}\".format(receipt_type.value, receipt_type.confidence))\n",
    "    merchant_name = receipt.fields.get(\"MerchantName\")\n",
    "    if merchant_name:\n",
    "        print(\"Merchant Name: {} has confidence: {}\".format(merchant_name.value, merchant_name.confidence))\n",
    "    transaction_date = receipt.fields.get(\"TransactionDate\")\n",
    "    if transaction_date:\n",
    "        print(\"Transaction Date: {} has confidence: {}\".format(transaction_date.value, transaction_date.confidence))\n",
    "    if receipt.fields.get(\"Items\"):\n",
    "        print(\"Receipt items:\")\n",
    "        for idx, item in enumerate(receipt.fields.get(\"Items\").value):\n",
    "            print(\"...Item #{}\".format(idx+1))\n",
    "            item_name = item.value.get(\"Name\")\n",
    "            if item_name:\n",
    "                print(\"......Item Name: {} has confidence: {}\".format(item_name.value, item_name.confidence))\n",
    "            item_quantity = item.value.get(\"Quantity\")\n",
    "            if item_quantity:\n",
    "                print(\"......Item Quantity: {} has confidence: {}\".format(item_quantity.value, item_quantity.confidence))\n",
    "            item_price = item.value.get(\"Price\")\n",
    "            if item_price:\n",
    "                print(\"......Individual Item Price: {} has confidence: {}\".format(item_price.value, item_price.confidence))\n",
    "            item_total_price = item.value.get(\"TotalPrice\")\n",
    "            if item_total_price:\n",
    "                print(\"......Total Item Price: {} has confidence: {}\".format(item_total_price.value, item_total_price.confidence))\n",
    "    subtotal = receipt.fields.get(\"Subtotal\")\n",
    "    if subtotal:\n",
    "        print(\"Subtotal: {} has confidence: {}\".format(subtotal.value, subtotal.confidence))\n",
    "    tax = receipt.fields.get(\"Tax\")\n",
    "    if tax:\n",
    "        print(\"Tax: {} has confidence: {}\".format(tax.value, tax.confidence))\n",
    "    tip = receipt.fields.get(\"Tip\")\n",
    "    if tip:\n",
    "        print(\"Tip: {} has confidence: {}\".format(tip.value, tip.confidence))\n",
    "    total = receipt.fields.get(\"Total\")\n",
    "    if total:\n",
    "        print(\"Total: {} has confidence: {}\".format(total.value, total.confidence))\n"
   ]
  },
  {
   "cell_type": "code",
   "execution_count": null,
   "metadata": {},
   "outputs": [],
   "source": [
    "get_receipt_details(collected_receipts[0])"
   ]
  },
  {
   "cell_type": "code",
   "execution_count": null,
   "metadata": {},
   "outputs": [],
   "source": [
    "for index_id, receipt in enumerate(collected_receipts):\n",
    "    print(\"Displaying Receipt details ....... # {}\".format(index_id+1))\n",
    "    get_receipt_details(receipt)\n",
    "    print(\"---------------- EOL -------------------------\")"
   ]
  }
 ],
 "metadata": {
  "kernelspec": {
   "display_name": "ai-azure-c1",
   "language": "python",
   "name": "python3"
  },
  "language_info": {
   "codemirror_mode": {
    "name": "ipython",
    "version": 3
   },
   "file_extension": ".py",
   "mimetype": "text/x-python",
   "name": "python",
   "nbconvert_exporter": "python",
   "pygments_lexer": "ipython3",
   "version": "3.8.17"
  },
  "orig_nbformat": 4
 },
 "nbformat": 4,
 "nbformat_minor": 2
}
