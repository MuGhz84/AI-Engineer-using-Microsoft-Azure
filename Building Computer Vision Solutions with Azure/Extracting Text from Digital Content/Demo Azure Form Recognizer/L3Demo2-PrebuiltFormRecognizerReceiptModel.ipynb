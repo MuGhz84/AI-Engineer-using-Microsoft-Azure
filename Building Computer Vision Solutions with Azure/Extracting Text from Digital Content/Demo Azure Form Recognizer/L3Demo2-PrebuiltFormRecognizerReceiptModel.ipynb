{
 "cells": [
  {
   "cell_type": "markdown",
   "metadata": {},
   "source": [
    "### Importing Azure Form Recognizer python modules"
   ]
  },
  {
   "cell_type": "code",
   "execution_count": 1,
   "metadata": {},
   "outputs": [],
   "source": [
    "from azure.core.credentials import AzureKeyCredential\n",
    "from azure.ai.formrecognizer import FormRecognizerClient"
   ]
  },
  {
   "cell_type": "code",
   "execution_count": 2,
   "metadata": {},
   "outputs": [],
   "source": [
    "AZURE_FORM_RECOGNIZER_ENDPOINT = \"https://formrecoprebuiltmodel.cognitiveservices.azure.com/\"\n",
    "AZURE_FORM_RECOGNIZER_KEY = \"21f1b4cfb8d34283af4bae1b1e3d4f37\""
   ]
  },
  {
   "cell_type": "code",
   "execution_count": 3,
   "metadata": {},
   "outputs": [],
   "source": [
    "endpoint = AZURE_FORM_RECOGNIZER_ENDPOINT\n",
    "key = AZURE_FORM_RECOGNIZER_KEY"
   ]
  },
  {
   "cell_type": "code",
   "execution_count": 4,
   "metadata": {},
   "outputs": [],
   "source": [
    "form_recognizer_client = FormRecognizerClient(endpoint=endpoint, credential=AzureKeyCredential(key))"
   ]
  },
  {
   "cell_type": "markdown",
   "metadata": {},
   "source": [
    "### Source Document"
   ]
  },
  {
   "cell_type": "code",
   "execution_count": 5,
   "metadata": {},
   "outputs": [],
   "source": [
    "content_url = \"https://raw.githubusercontent.com/udacity/cd0461-building-computer-vision-solutions-with-azure-exercises/main/resources/receipt-1.png\""
   ]
  },
  {
   "cell_type": "code",
   "execution_count": 6,
   "metadata": {},
   "outputs": [],
   "source": [
    "receipt_content_from_url = form_recognizer_client.begin_recognize_receipts_from_url(content_url)"
   ]
  },
  {
   "cell_type": "code",
   "execution_count": 7,
   "metadata": {},
   "outputs": [],
   "source": [
    "collected_receipts = receipt_content_from_url.result()"
   ]
  },
  {
   "cell_type": "code",
   "execution_count": 8,
   "metadata": {},
   "outputs": [
    {
     "data": {
      "text/plain": [
       "[RecognizedForm(form_type=prebuilt:receipt, fields={'Items': FormField(value_type=list, label_data=None, value_data=None, name=Items, value=[FormField(value_type=dictionary, label_data=None, value_data=None, name=Items, value={'Name': FormField(value_type=string, label_data=None, value_data=FieldData(page_number=1, text=Hotdog, bounding_box=[Point(x=170.0, y=369.0), Point(x=275.0, y=371.0), Point(x=274.0, y=402.0), Point(x=170.0, y=400.0)], field_elements=None), name=Name, value='Hotdog', confidence=0.984), 'TotalPrice': FormField(value_type=float, label_data=None, value_data=FieldData(page_number=1, text=$2.99, bounding_box=[Point(x=462.0, y=371.0), Point(x=550.0, y=372.0), Point(x=550.0, y=397.0), Point(x=463.0, y=396.0)], field_elements=None), name=TotalPrice, value=2.99, confidence=0.986)}, confidence=1.0), FormField(value_type=dictionary, label_data=None, value_data=None, name=Items, value={'Name': FormField(value_type=string, label_data=None, value_data=FieldData(page_number=1, text=Drink, bounding_box=[]"
      ]
     },
     "execution_count": 8,
     "metadata": {},
     "output_type": "execute_result"
    }
   ],
   "source": [
    "collected_receipts"
   ]
  },
  {
   "cell_type": "code",
   "execution_count": 9,
   "metadata": {},
   "outputs": [
    {
     "data": {
      "text/plain": [
       "1"
      ]
     },
     "execution_count": 9,
     "metadata": {},
     "output_type": "execute_result"
    }
   ],
   "source": [
    "len(collected_receipts)"
   ]
  },
  {
   "cell_type": "code",
   "execution_count": 10,
   "metadata": {},
   "outputs": [
    {
     "data": {
      "text/plain": [
       "azure.ai.formrecognizer._models.RecognizedForm"
      ]
     },
     "execution_count": 10,
     "metadata": {},
     "output_type": "execute_result"
    }
   ],
   "source": [
    "type(collected_receipts[0])"
   ]
  },
  {
   "cell_type": "markdown",
   "metadata": {},
   "source": [
    "### Processing Results"
   ]
  },
  {
   "cell_type": "code",
   "execution_count": 11,
   "metadata": {},
   "outputs": [],
   "source": [
    "def get_receipt_details(receipt):\n",
    "    receipt_type = receipt.fields.get(\"ReceiptType\")\n",
    "    if receipt_type:\n",
    "        print(\"Receipt Type: {} has confidence: {}\".format(receipt_type.value, receipt_type.confidence))\n",
    "    merchant_name = receipt.fields.get(\"MerchantName\")\n",
    "    if merchant_name:\n",
    "        print(\"Merchant Name: {} has confidence: {}\".format(merchant_name.value, merchant_name.confidence))\n",
    "    transaction_date = receipt.fields.get(\"TransactionDate\")\n",
    "    if transaction_date:\n",
    "        print(\"Transaction Date: {} has confidence: {}\".format(transaction_date.value, transaction_date.confidence))\n",
    "    if receipt.fields.get(\"Items\"):\n",
    "        print(\"Receipt items:\")\n",
    "        for idx, item in enumerate(receipt.fields.get(\"Items\").value):\n",
    "            print(\"...Item #{}\".format(idx+1))\n",
    "            item_name = item.value.get(\"Name\")\n",
    "            if item_name:\n",
    "                print(\"......Item Name: {} has confidence: {}\".format(item_name.value, item_name.confidence))\n",
    "            item_quantity = item.value.get(\"Quantity\")\n",
    "            if item_quantity:\n",
    "                print(\"......Item Quantity: {} has confidence: {}\".format(item_quantity.value, item_quantity.confidence))\n",
    "            item_price = item.value.get(\"Price\")\n",
    "            if item_price:\n",
    "                print(\"......Individual Item Price: {} has confidence: {}\".format(item_price.value, item_price.confidence))\n",
    "            item_total_price = item.value.get(\"TotalPrice\")\n",
    "            if item_total_price:\n",
    "                print(\"......Total Item Price: {} has confidence: {}\".format(item_total_price.value, item_total_price.confidence))\n",
    "    subtotal = receipt.fields.get(\"Subtotal\")\n",
    "    if subtotal:\n",
    "        print(\"Subtotal: {} has confidence: {}\".format(subtotal.value, subtotal.confidence))\n",
    "    tax = receipt.fields.get(\"Tax\")\n",
    "    if tax:\n",
    "        print(\"Tax: {} has confidence: {}\".format(tax.value, tax.confidence))\n",
    "    tip = receipt.fields.get(\"Tip\")\n",
    "    if tip:\n",
    "        print(\"Tip: {} has confidence: {}\".format(tip.value, tip.confidence))\n",
    "    total = receipt.fields.get(\"Total\")\n",
    "    if total:\n",
    "        print(\"Total: {} has confidence: {}\".format(total.value, total.confidence))\n"
   ]
  },
  {
   "cell_type": "code",
   "execution_count": 12,
   "metadata": {},
   "outputs": [
    {
     "name": "stdout",
     "output_type": "stream",
     "text": [
      "Receipt Type: Itemized has confidence: 0.995\n",
      "Merchant Name: Maximart Store has confidence: 0.973\n",
      "Transaction Date: 2021-08-03 has confidence: 0.989\n",
      "Receipt items:\n",
      "...Item #1\n",
      "......Item Name: Hotdog has confidence: 0.984\n",
      "......Total Item Price: 2.99 has confidence: 0.986\n",
      "...Item #2\n",
      "......Item Name: Drink has confidence: 0.984\n",
      "......Total Item Price: 3.99 has confidence: 0.98\n",
      "Subtotal: 6.98 has confidence: 0.984\n",
      "Tax: 0.65 has confidence: 0.987\n",
      "Total: 698.0 has confidence: 0.812\n"
     ]
    }
   ],
   "source": [
    "get_receipt_details(collected_receipts[0])"
   ]
  },
  {
   "cell_type": "code",
   "execution_count": 13,
   "metadata": {},
   "outputs": [
    {
     "name": "stdout",
     "output_type": "stream",
     "text": [
      "Displaying Receipt details ....... # 1\n",
      "Receipt Type: Itemized has confidence: 0.995\n",
      "Merchant Name: Maximart Store has confidence: 0.973\n",
      "Transaction Date: 2021-08-03 has confidence: 0.989\n",
      "Receipt items:\n",
      "...Item #1\n",
      "......Item Name: Hotdog has confidence: 0.984\n",
      "......Total Item Price: 2.99 has confidence: 0.986\n",
      "...Item #2\n",
      "......Item Name: Drink has confidence: 0.984\n",
      "......Total Item Price: 3.99 has confidence: 0.98\n",
      "Subtotal: 6.98 has confidence: 0.984\n",
      "Tax: 0.65 has confidence: 0.987\n",
      "Total: 698.0 has confidence: 0.812\n",
      "---------------- EOL -------------------------\n"
     ]
    }
   ],
   "source": [
    "for index_id, receipt in enumerate(collected_receipts):\n",
    "    print(\"Displaying Receipt details ....... # {}\".format(index_id+1))\n",
    "    get_receipt_details(receipt)\n",
    "    print(\"---------------- EOL -------------------------\")"
   ]
  }
 ],
 "metadata": {
  "kernelspec": {
   "display_name": "ai-azure-c1",
   "language": "python",
   "name": "python3"
  },
  "language_info": {
   "codemirror_mode": {
    "name": "ipython",
    "version": 3
   },
   "file_extension": ".py",
   "mimetype": "text/x-python",
   "name": "python",
   "nbconvert_exporter": "python",
   "pygments_lexer": "ipython3",
   "version": "3.8.17"
  },
  "orig_nbformat": 4
 },
 "nbformat": 4,
 "nbformat_minor": 2
}
